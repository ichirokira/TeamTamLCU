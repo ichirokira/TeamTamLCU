{
 "cells": [
  {
   "cell_type": "markdown",
   "metadata": {},
   "source": [
    "## Introduction"
   ]
  },
  {
   "attachments": {
    "image.png": {
     "image/png": "[encoded data removed]"
    }
   },
   "cell_type": "markdown",
   "metadata": {},
   "source": [
    "LCU is an useful technique that allows to perform quantum trasformation not only unitary but as the form of linear combination of unitaries\n",
    "$$\n",
    "T = \\sum_{i=0}^{K-1} \\alpha_i U_i \\ket{\\psi} \n",
    "$$\n",
    "where $\\alpha_i$ is positive real number (the negative and imaginary phase can be absorbed into the unitary $U_i$). For simplicity, we assume $K=2^{m}$ (if not we add more ancilla qubits to satify this condition)\n",
    "\n",
    "We will briefly discribe how to implement this transformation using LCU circuit. Consider two oracles:\n",
    "$$\n",
    "P: \\ket{0}^{\\otimes m} \\longrightarrow \\frac{1}{|\\alpha|_1}\\sum_{i}\\sqrt{\\alpha_i}\\ket{i},\n",
    "$$\n",
    "\n",
    "$$\n",
    "S := \\sum_{i \\in [K]} \\ket{i}\\bra{i}\\otimes U_i,\n",
    "$$\n",
    "The operation $W = (P^{\\dagger}\\otimes I_n)S(P\\otimes I_n)$ will transform a $n$-qubit state $\\ket{\\psi}$ as:\n",
    "\n",
    "$$\n",
    "W\\ket{\\psi} = \\frac{1}{|\\alpha|_1}\\ket{0}^{\\otimes m} T \\ket{\\psi} + \\ket{\\omega},\n",
    "$$\n",
    "where $\\ket{\\omega}$ is an unormalized state and othorgonal to $\\ket{0}^{\\otimes m}$.\n",
    "\n",
    "### Example of linear combination of two unitaries\n",
    "![](attachment:image.png)\n"
   ]
  },
  {
   "cell_type": "markdown",
   "metadata": {},
   "source": [
    "## LCU_Cirq"
   ]
  },
  {
   "cell_type": "markdown",
   "metadata": {},
   "source": [
    "This tutorial will teach how to use our LCU package for your Cirq code. It will briefly introduce our functionalites,\n",
    "the appropriated forms of input and the expected output through various examples."
   ]
  },
  {
   "cell_type": "markdown",
   "metadata": {},
   "source": [
    "The first part is how to construct the LCU circuit.\n",
    "\n",
    "Here, we present an example of linear combination of two unitaries as:\n",
    "$$\n",
    "T = 0.7 X + 0.5 Y,\n",
    "$$ \n",
    "where $X, Y$ are respectively Pauli-X and Pauli-Y matrices.\n",
    "\n",
    "Given $T$, we set $m=1$, $n=1$. For simplicity we assume the system initialized with $\\ket{\\psi_0}=\\ket{0}$. Therefore the transformation of $W$ will output:\n",
    "$$\n",
    "\\ket{\\psi_{lcu}} = \\frac{1}{1.2}\\ket{0}\\otimes(0.7+0.5i)\\ket{1} + \\ket{\\omega}\n",
    "$$\n",
    "$$\n",
    "\\ket{\\psi_{lcu}} = \\ket{0}\\otimes(0.5833+0.4167i)\\ket{1} + \\ket{\\omega}\n",
    "$$"
   ]
  },
  {
   "cell_type": "code",
   "execution_count": 1,
   "metadata": {},
   "outputs": [],
   "source": [
    "# Import Package\n",
    "import os\n",
    "import sys\n",
    "sys.path.insert(0, os.path.abspath(os.path.join(os.getcwd(), '..')))\n",
    "\n",
    "from lcu_cirq.lcu import LCU\n",
    "import numpy as np\n",
    "import cirq\n",
    "from cirq.contrib.svg import SVGCircuit"
   ]
  },
  {
   "cell_type": "code",
   "execution_count": 2,
   "metadata": {},
   "outputs": [],
   "source": [
    "# Define coefficients and unitaries\n",
    "coefficients = [0.7, 0.5]\n",
    "unitaries = [np.array([[0,1],[1,0]]), np.array([[0,-1j],[1j,0]])]"
   ]
  },
  {
   "cell_type": "code",
   "execution_count": 3,
   "metadata": {},
   "outputs": [
    {
     "data": {
      "image/svg+xml": [
       "<svg xmlns=\"http://www.w3.org/2000/svg\" width=\"423.70562500000005\" height=\"100.0\"><line x1=\"30.0\" x2=\"393.70562500000005\" y1=\"25.0\" y2=\"25.0\" stroke=\"#1967d2\" stroke-width=\"1\" /><line x1=\"30.0\" x2=\"393.70562500000005\" y1=\"75.0\" y2=\"75.0\" stroke=\"#1967d2\" stroke-width=\"1\" /><line x1=\"189.5217578125\" x2=\"189.5217578125\" y1=\"25.0\" y2=\"75.0\" stroke=\"black\" stroke-width=\"3\" /><line x1=\"249.5217578125\" x2=\"249.5217578125\" y1=\"25.0\" y2=\"75.0\" stroke=\"black\" stroke-width=\"3\" /><rect x=\"10.0\" y=\"5.0\" width=\"40\" height=\"40\" stroke=\"black\" fill=\"white\" stroke-width=\"0\" /><text x=\"30.0\" y=\"25.0\" dominant-baseline=\"middle\" text-anchor=\"middle\" font-size=\"14px\" font-family=\"Arial\">lcu0: </text><rect x=\"10.0\" y=\"55.0\" width=\"40\" height=\"40\" stroke=\"black\" fill=\"white\" stroke-width=\"0\" /><text x=\"30.0\" y=\"75.0\" dominant-baseline=\"middle\" text-anchor=\"middle\" font-size=\"14px\" font-family=\"Arial\">lcu1: </text><rect x=\"70.0\" y=\"5.0\" width=\"79.5217578125\" height=\"40\" stroke=\"black\" fill=\"white\" stroke-width=\"1\" /><text x=\"109.76087890625\" y=\"25.0\" dominant-baseline=\"middle\" text-anchor=\"middle\" font-size=\"14px\" font-family=\"Arial\">Ry(0.447π)</text><rect x=\"169.5217578125\" y=\"5.0\" width=\"40\" height=\"40\" stroke=\"black\" fill=\"white\" stroke-width=\"1\" /><text x=\"189.5217578125\" y=\"25.0\" dominant-baseline=\"middle\" text-anchor=\"middle\" font-size=\"14px\" font-family=\"Arial\">(0)</text><rect x=\"169.5217578125\" y=\"55.0\" width=\"40\" height=\"40\" stroke=\"black\" fill=\"white\" stroke-width=\"1\" /><text x=\"189.5217578125\" y=\"75.0\" dominant-baseline=\"middle\" text-anchor=\"middle\" font-size=\"14px\" font-family=\"Arial\">U0</text><circle cx=\"249.5217578125\" cy=\"25.0\" r=\"10.0\" /><rect x=\"229.5217578125\" y=\"55.0\" width=\"40\" height=\"40\" stroke=\"black\" fill=\"white\" stroke-width=\"1\" /><text x=\"249.5217578125\" y=\"75.0\" dominant-baseline=\"middle\" text-anchor=\"middle\" font-size=\"14px\" font-family=\"Arial\">U1</text><rect x=\"289.5217578125\" y=\"5.0\" width=\"84.18386718750001\" height=\"40\" stroke=\"black\" fill=\"white\" stroke-width=\"1\" /><text x=\"331.61369140625004\" y=\"25.0\" dominant-baseline=\"middle\" text-anchor=\"middle\" font-size=\"14px\" font-family=\"Arial\">Ry(-0.447π)</text></svg>"
      ],
      "text/plain": [
       "<cirq.contrib.svg.svg.SVGCircuit at 0x228f4f4df40>"
      ]
     },
     "execution_count": 3,
     "metadata": {},
     "output_type": "execute_result"
    }
   ],
   "source": [
    "# Construct LCU circuit\n",
    "circuit = LCU(coefficients=coefficients, unitaries=unitaries)\n",
    "circuit.visualise()"
   ]
  },
  {
   "cell_type": "code",
   "execution_count": 4,
   "metadata": {},
   "outputs": [
    {
     "data": {
      "text/plain": [
       "array([0.       +0.j        , 0.5833333+0.41666663j], dtype=complex64)"
      ]
     },
     "execution_count": 4,
     "metadata": {},
     "output_type": "execute_result"
    }
   ],
   "source": [
    "# Simulate\n",
    "simulator = cirq.Simulator()\n",
    "result = simulator.simulate(circuit, qubit_order=circuit.qubits)\n",
    "\n",
    "# Readout final state vector and choose the output such that \n",
    "# the coefficient qubit equal 0\n",
    "final_state_vector = result.final_state_vector\n",
    "output_state = final_state_vector[0:2]\n",
    "output_state"
   ]
  },
  {
   "cell_type": "markdown",
   "metadata": {},
   "source": [
    "The result matches the expected output.\n",
    "\n",
    "We further allow users to input arbitrary initialized state by integrating our LCU circuit with your own circuit.\n",
    "\n",
    "Assume, we initalized a system with $1$ qubit, and perform a Hadamard gate to the system. Now we add LCU circuit of the qubit (note that the orginal system is $1$ but we still one ancilla qubit to encoding the coefficients)."
   ]
  },
  {
   "cell_type": "code",
   "execution_count": 5,
   "metadata": {},
   "outputs": [
    {
     "data": {
      "image/svg+xml": [
       "<svg xmlns=\"http://www.w3.org/2000/svg\" width=\"214.71804687500003\" height=\"50.0\"><line x1=\"57.35902343750001\" x2=\"184.71804687500003\" y1=\"25.0\" y2=\"25.0\" stroke=\"#1967d2\" stroke-width=\"1\" /><rect x=\"10.0\" y=\"5.0\" width=\"94.71804687500001\" height=\"40\" stroke=\"black\" fill=\"white\" stroke-width=\"0\" /><text x=\"57.35902343750001\" y=\"25.0\" dominant-baseline=\"middle\" text-anchor=\"middle\" font-size=\"14px\" font-family=\"Arial\">system_qubit: </text><rect x=\"124.71804687500003\" y=\"5.0\" width=\"40\" height=\"40\" stroke=\"black\" fill=\"white\" stroke-width=\"1\" /><text x=\"144.71804687500003\" y=\"25.0\" dominant-baseline=\"middle\" text-anchor=\"middle\" font-size=\"18px\" font-family=\"Arial\">H</text></svg>"
      ],
      "text/plain": [
       "<cirq.contrib.svg.svg.SVGCircuit at 0x228b9a0b9d0>"
      ]
     },
     "execution_count": 5,
     "metadata": {},
     "output_type": "execute_result"
    }
   ],
   "source": [
    "# Define qubit\n",
    "qubit = cirq.NamedQubit(\"system_qubit\")\n",
    "\n",
    "# Define an empty circuit \n",
    "circuit = cirq.Circuit()\n",
    "circuit.append(cirq.H(qubit))\n",
    "\n",
    "SVGCircuit(circuit)"
   ]
  },
  {
   "cell_type": "markdown",
   "metadata": {},
   "source": [
    "Now we add the LCU circuit to the original circuit.\n",
    "We use the `on_qubits` varible to specify the system qubit that LCU acts on."
   ]
  },
  {
   "cell_type": "code",
   "execution_count": 6,
   "metadata": {},
   "outputs": [
    {
     "data": {
      "image/svg+xml": [
       "<svg xmlns=\"http://www.w3.org/2000/svg\" width=\"538.4236718750001\" height=\"100.0\"><line x1=\"57.35902343750001\" x2=\"508.4236718750001\" y1=\"25.0\" y2=\"25.0\" stroke=\"#1967d2\" stroke-width=\"1\" /><line x1=\"57.35902343750001\" x2=\"508.4236718750001\" y1=\"75.0\" y2=\"75.0\" stroke=\"#1967d2\" stroke-width=\"1\" /><line x1=\"304.23980468750005\" x2=\"304.23980468750005\" y1=\"25.0\" y2=\"75.0\" stroke=\"black\" stroke-width=\"3\" /><line x1=\"364.23980468750005\" x2=\"364.23980468750005\" y1=\"25.0\" y2=\"75.0\" stroke=\"black\" stroke-width=\"3\" /><rect x=\"10.0\" y=\"5.0\" width=\"94.71804687500001\" height=\"40\" stroke=\"black\" fill=\"white\" stroke-width=\"0\" /><text x=\"57.35902343750001\" y=\"25.0\" dominant-baseline=\"middle\" text-anchor=\"middle\" font-size=\"14px\" font-family=\"Arial\">coeff0: </text><rect x=\"10.0\" y=\"55.0\" width=\"94.71804687500001\" height=\"40\" stroke=\"black\" fill=\"white\" stroke-width=\"0\" /><text x=\"57.35902343750001\" y=\"75.0\" dominant-baseline=\"middle\" text-anchor=\"middle\" font-size=\"14px\" font-family=\"Arial\">system_qubit: </text><rect x=\"124.71804687500003\" y=\"55.0\" width=\"40\" height=\"40\" stroke=\"black\" fill=\"white\" stroke-width=\"1\" /><text x=\"144.71804687500003\" y=\"75.0\" dominant-baseline=\"middle\" text-anchor=\"middle\" font-size=\"18px\" font-family=\"Arial\">H</text><rect x=\"184.71804687500003\" y=\"5.0\" width=\"79.5217578125\" height=\"40\" stroke=\"black\" fill=\"white\" stroke-width=\"1\" /><text x=\"224.47892578125004\" y=\"25.0\" dominant-baseline=\"middle\" text-anchor=\"middle\" font-size=\"14px\" font-family=\"Arial\">Ry(0.447π)</text><rect x=\"284.23980468750005\" y=\"5.0\" width=\"40\" height=\"40\" stroke=\"black\" fill=\"white\" stroke-width=\"1\" /><text x=\"304.23980468750005\" y=\"25.0\" dominant-baseline=\"middle\" text-anchor=\"middle\" font-size=\"14px\" font-family=\"Arial\">(0)</text><rect x=\"284.23980468750005\" y=\"55.0\" width=\"40\" height=\"40\" stroke=\"black\" fill=\"white\" stroke-width=\"1\" /><text x=\"304.23980468750005\" y=\"75.0\" dominant-baseline=\"middle\" text-anchor=\"middle\" font-size=\"14px\" font-family=\"Arial\">U0</text><circle cx=\"364.23980468750005\" cy=\"25.0\" r=\"10.0\" /><rect x=\"344.23980468750005\" y=\"55.0\" width=\"40\" height=\"40\" stroke=\"black\" fill=\"white\" stroke-width=\"1\" /><text x=\"364.23980468750005\" y=\"75.0\" dominant-baseline=\"middle\" text-anchor=\"middle\" font-size=\"14px\" font-family=\"Arial\">U1</text><rect x=\"404.23980468750005\" y=\"5.0\" width=\"84.18386718750001\" height=\"40\" stroke=\"black\" fill=\"white\" stroke-width=\"1\" /><text x=\"446.33173828125007\" y=\"25.0\" dominant-baseline=\"middle\" text-anchor=\"middle\" font-size=\"14px\" font-family=\"Arial\">Ry(-0.447π)</text></svg>"
      ],
      "text/plain": [
       "<cirq.contrib.svg.svg.SVGCircuit at 0x228f4f3c0d0>"
      ]
     },
     "execution_count": 6,
     "metadata": {},
     "output_type": "execute_result"
    }
   ],
   "source": [
    "circuit.append(LCU(coefficients=coefficients, unitaries=unitaries, on_qubits=[qubit]))\n",
    "SVGCircuit(circuit)"
   ]
  },
  {
   "cell_type": "markdown",
   "metadata": {},
   "source": [
    "Under this case, the expected output will be:\n",
    "$$\n",
    "\\ket{\\psi_{lcu}} = \\frac{1}{1.2}\\ket{0}\\otimes(0.7X+0.5Y)\\ket{+} + \\ket{\\omega}\n",
    "$$\n",
    "$$\n",
    "\\ket{\\psi_{lcu}} = \\ket{0}\\otimes(\\frac{1}{1.2\\sqrt{2}}((0.7-0.5i)\\ket{0}+(0.7+0.5i)\\ket{1}) ) + \\ket{\\omega}\n",
    "$$\n",
    "$$\n",
    "\\ket{\\psi_{lcu}} = \\ket{0}\\otimes(((0.412-0.295i)\\ket{0}+(0.412+0.295i)\\ket{1}) ) + \\ket{\\omega}\n",
    "$$"
   ]
  },
  {
   "cell_type": "code",
   "execution_count": 7,
   "metadata": {},
   "outputs": [
    {
     "data": {
      "text/plain": [
       "frozenset({cirq.NamedQubit('coeff0'), cirq.NamedQubit('system_qubit')})"
      ]
     },
     "execution_count": 7,
     "metadata": {},
     "output_type": "execute_result"
    }
   ],
   "source": [
    "circuit.all_qubits()"
   ]
  },
  {
   "cell_type": "code",
   "execution_count": 8,
   "metadata": {},
   "outputs": [
    {
     "data": {
      "text/plain": [
       "array([0.41247892-0.29462782j, 0.41247892+0.29462782j], dtype=complex64)"
      ]
     },
     "execution_count": 8,
     "metadata": {},
     "output_type": "execute_result"
    }
   ],
   "source": [
    "# Simulate\n",
    "simulator = cirq.Simulator()\n",
    "result = simulator.simulate(circuit, qubit_order=circuit.all_qubits())\n",
    "\n",
    "# Readout final state vector and choose the output such that \n",
    "# the coefficient qubit equal 0\n",
    "final_state_vector = result.final_state_vector\n",
    "output_state = final_state_vector[0:2]\n",
    "output_state"
   ]
  },
  {
   "cell_type": "markdown",
   "metadata": {},
   "source": [
    "We still output the correct answers"
   ]
  },
  {
   "cell_type": "markdown",
   "metadata": {},
   "source": []
  }
 ],
 "metadata": {
  "kernelspec": {
   "display_name": "cirq",
   "language": "python",
   "name": "python3"
  },
  "language_info": {
   "codemirror_mode": {
    "name": "ipython",
    "version": 3
   },
   "file_extension": ".py",
   "mimetype": "text/x-python",
   "name": "python",
   "nbconvert_exporter": "python",
   "pygments_lexer": "ipython3",
   "version": "3.8.18"
  }
 },
 "nbformat": 4,
 "nbformat_minor": 2
}
